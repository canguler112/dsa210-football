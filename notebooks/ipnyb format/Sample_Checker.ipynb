{
  "nbformat": 4,
  "nbformat_minor": 0,
  "metadata": {
    "colab": {
      "provenance": []
    },
    "kernelspec": {
      "name": "python3",
      "display_name": "Python 3"
    },
    "language_info": {
      "name": "python"
    }
  },
  "cells": [
    {
      "cell_type": "code",
      "source": [
        "# Sample Checker\n",
        "\n",
        "import pandas as pd, matplotlib.pyplot as plt, seaborn as sns, numpy as np\n",
        "df = pd.read_csv(r\"C:\\Users\\cangu\\Downloads\\players_2019_20_tidy500.csv\")\n",
        "\n",
        "df.info()\n",
        "df.describe(include='all').T                              # quick overview\n",
        "assert df.isna().sum()['market_value_eur'] == 0           # sanity check\n"
      ],
      "metadata": {
        "id": "1lBNbVSh29G1"
      },
      "execution_count": null,
      "outputs": []
    }
  ]
}
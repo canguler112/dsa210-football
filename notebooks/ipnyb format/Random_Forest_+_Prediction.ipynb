{
  "nbformat": 4,
  "nbformat_minor": 0,
  "metadata": {
    "colab": {
      "provenance": []
    },
    "kernelspec": {
      "name": "python3",
      "display_name": "Python 3"
    },
    "language_info": {
      "name": "python"
    }
  },
  "cells": [
    {
      "cell_type": "code",
      "source": [
        "from sklearn.ensemble import RandomForestRegressor\n",
        "from sklearn.model_selection import train_test_split\n",
        "from sklearn.preprocessing import OneHotEncoder\n",
        "from sklearn.compose import ColumnTransformer\n",
        "from sklearn.pipeline import Pipeline\n",
        "from sklearn.metrics import r2_score, mean_absolute_error\n",
        "from pathlib import Path\n",
        "import pandas as pd\n",
        "\n",
        "# 1) Load the enriched data\n",
        "ROOT     = Path(__file__).parent.parent\n",
        "DATA_CSV = ROOT / \"data\" / \"processed\" / \"players_2019_20_tidy500_with_avg_match_rating_v3.csv\"\n",
        "IMG_DIR  = ROOT / \"images\"\n",
        "IMG_DIR.mkdir(exist_ok=True)\n",
        "\n",
        "df = pd.read_csv(DATA_CSV)\n",
        "\n",
        "# 2) Define X & y (include avg_match_rating)\n",
        "num_feats = [\"age\", \"score_contrib_per90\", \"cards_2019_20\", \"avg_match_rating\"]\n",
        "cat_feats = [\"league\", \"nationality\"]\n",
        "\n",
        "X = df[num_feats + cat_feats]\n",
        "y = df[\"market_value_eur\"]\n",
        "\n",
        "# 3) Split\n",
        "X_train, X_test, y_train, y_test = train_test_split(\n",
        "    X, y, test_size=0.3, random_state=42\n",
        ")\n",
        "\n",
        "# 4) Build pipeline\n",
        "preprocessor = ColumnTransformer([\n",
        "    (\"cat\", OneHotEncoder(handle_unknown=\"ignore\", sparse_output=False), cat_feats),\n",
        "], remainder=\"passthrough\")  # leaves num_feats (including avg_match_rating) as-is\n",
        "\n",
        "pipeline = Pipeline([\n",
        "    (\"pre\", preprocessor),\n",
        "    (\"rf\", RandomForestRegressor(random_state=42))\n",
        "])\n",
        "\n",
        "# 5) Train & predict\n",
        "pipeline.fit(X_train, y_train)\n",
        "pred = pipeline.predict(X_test)\n",
        "\n",
        "# 6) Evaluate\n",
        "print(\"R²:\",  round(r2_score(y_test, pred), 3))\n",
        "print(\"MAE:\", mean_absolute_error(y_test, pred), \"€\")\n",
        "\n",
        "# 7) Example prediction\n",
        "new_player = pd.DataFrame([{\n",
        "    \"age\": 24,\n",
        "    \"score_contrib_per90\": 0.5,\n",
        "    \"cards_2019_20\": 5,\n",
        "    \"avg_match_rating\": 7.2,\n",
        "    \"league\": \"Serie A\",\n",
        "    \"nationality\": \"Brazil\"\n",
        "}])\n",
        "\n",
        "predicted_value = pipeline.predict(new_player)\n",
        "print(f\"Predicted market value: €{predicted_value[0]:,.0f}\")\n"
      ],
      "metadata": {
        "colab": {
          "base_uri": "https://localhost:8080/"
        },
        "id": "totElScv3JIr",
        "outputId": "9c018d92-84b7-400d-9393-9c8eab2d5d75"
      },
      "execution_count": 20,
      "outputs": [
        {
          "output_type": "stream",
          "name": "stdout",
          "text": [
            "R²: 0.42\n",
            "MAE: 7489153.65 €\n",
            "Predicted market value: €38,580,325\n"
          ]
        }
      ]
    }
  ]
}